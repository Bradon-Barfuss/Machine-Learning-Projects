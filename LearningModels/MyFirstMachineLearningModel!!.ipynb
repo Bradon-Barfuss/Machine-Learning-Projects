{
  "nbformat": 4,
  "nbformat_minor": 0,
  "metadata": {
    "colab": {
      "provenance": [],
      "toc_visible": true
    },
    "kernelspec": {
      "name": "python3",
      "display_name": "Python 3"
    },
    "language_info": {
      "name": "python"
    }
  },
  "cells": [
    {
      "cell_type": "markdown",
      "source": [
        "# PyTorch Workflow!!!!!!!!!!!!!!!!!!!!!!!!!!!!!"
      ],
      "metadata": {
        "id": "OwIYL3VDJj7H"
      }
    },
    {
      "cell_type": "markdown",
      "source": [],
      "metadata": {
        "id": "9yEhN8s0tnYQ"
      }
    },
    {
      "cell_type": "code",
      "source": [
        "what_were_covering = {1: \"data (prepare and load)\",\n",
        "                      2: \"build model\",\n",
        "                      3: \"fitting the model to data (training)\",\n",
        "                      4: \"making predictions and evaluating the model inference\",\n",
        "                      5: \"saving and loading a model\",\n",
        "                      6: \"putting it all together\"}\n",
        "\n",
        "what_were_covering"
      ],
      "metadata": {
        "colab": {
          "base_uri": "https://localhost:8080/"
        },
        "id": "p-Q0nBoiNNkd",
        "outputId": "ebd41871-20c2-4200-a102-4e2fde467ce3"
      },
      "execution_count": 1,
      "outputs": [
        {
          "output_type": "execute_result",
          "data": {
            "text/plain": [
              "{1: 'data (prepare and load)',\n",
              " 2: 'build model',\n",
              " 3: 'fitting the model to data (training)',\n",
              " 4: 'making predictions and evaluating the model inference',\n",
              " 5: 'saving and loading a model',\n",
              " 6: 'putting it all together'}"
            ]
          },
          "metadata": {},
          "execution_count": 1
        }
      ]
    },
    {
      "cell_type": "code",
      "source": [
        "import torch\n",
        "from torch import nn # nn contains all of PyTorch's building blocks for neural networks\n",
        "import matplotlib.pyplot as plt\n",
        "\n",
        "#check pytorch version\n",
        "torch.__version__"
      ],
      "metadata": {
        "colab": {
          "base_uri": "https://localhost:8080/",
          "height": 36
        },
        "id": "Ov9dSRAsOW-x",
        "outputId": "9571f636-8c48-4fda-ce6c-a0eb8825f6e2"
      },
      "execution_count": 2,
      "outputs": [
        {
          "output_type": "execute_result",
          "data": {
            "text/plain": [
              "'2.2.1+cu121'"
            ],
            "application/vnd.google.colaboratory.intrinsic+json": {
              "type": "string"
            }
          },
          "metadata": {},
          "execution_count": 2
        }
      ]
    },
    {
      "cell_type": "markdown",
      "source": [
        "## 1. Data (preparing and loading)\n",
        "\n",
        "Data can be almost anything... in machine learning!! :)\n",
        "\n",
        "Machine learning is a game of two parts:\n",
        "1. get data into a numberical representation.\n",
        "2. build a model to learn patterns in that numerical representation\n",
        "\n",
        "to showcase this, lets create some *known* data using the linear regression formula\n",
        "\n",
        "We'll use a linear regression formula to make a straight line with *known* **parameters**. (parameters is something a model learns)"
      ],
      "metadata": {
        "id": "m_DVtN9lOYSB"
      }
    },
    {
      "cell_type": "code",
      "source": [
        "# Create *Known* parameters\n",
        "weight = 0.7\n",
        "bias = 0.3\n",
        "\n",
        "#create\n",
        "start = 0\n",
        "end = 1\n",
        "step = 0.01\n",
        "X = torch.arange(start, end, step).unsqueeze(dim=1)\n",
        "y = weight * (X) + bias\n",
        "\n",
        "X[:10], y[:10], len(X), len(y)\n",
        "\n",
        "#model will look at the X value, and the model will predict the y"
      ],
      "metadata": {
        "colab": {
          "base_uri": "https://localhost:8080/"
        },
        "id": "zyE3ZPrKO8T2",
        "outputId": "80a45775-3db1-447d-9a51-3c58d4d8b8e8"
      },
      "execution_count": 3,
      "outputs": [
        {
          "output_type": "execute_result",
          "data": {
            "text/plain": [
              "(tensor([[0.0000],\n",
              "         [0.0100],\n",
              "         [0.0200],\n",
              "         [0.0300],\n",
              "         [0.0400],\n",
              "         [0.0500],\n",
              "         [0.0600],\n",
              "         [0.0700],\n",
              "         [0.0800],\n",
              "         [0.0900]]),\n",
              " tensor([[0.3000],\n",
              "         [0.3070],\n",
              "         [0.3140],\n",
              "         [0.3210],\n",
              "         [0.3280],\n",
              "         [0.3350],\n",
              "         [0.3420],\n",
              "         [0.3490],\n",
              "         [0.3560],\n",
              "         [0.3630]]),\n",
              " 100,\n",
              " 100)"
            ]
          },
          "metadata": {},
          "execution_count": 3
        }
      ]
    },
    {
      "cell_type": "markdown",
      "source": [
        "### Spliting data into training and test sets (one of the most important\n",
        "\n",
        "---\n",
        "\n",
        "concepts in machine learning in general)\n",
        "\n",
        "LETS CREATE A TRAINING AND TESTING SET!!!!!!!!!"
      ],
      "metadata": {
        "id": "wghJjHD-QbdL"
      }
    },
    {
      "cell_type": "code",
      "source": [
        "#Create a train/test split\n",
        "train_split = int(0.8 * len(X))\n",
        "X_train, y_train = X[:train_split], y[:train_split]\n",
        "X_test, y_test = X[train_split:], y[train_split:]\n",
        "\n",
        "len(X_train), len(y_train), len(X_test), len(y_test)"
      ],
      "metadata": {
        "colab": {
          "base_uri": "https://localhost:8080/"
        },
        "id": "bFKww-vKSAT_",
        "outputId": "c04fe434-a9de-4c0f-e35f-03f2fd6b4778"
      },
      "execution_count": 4,
      "outputs": [
        {
          "output_type": "execute_result",
          "data": {
            "text/plain": [
              "(80, 80, 20, 20)"
            ]
          },
          "metadata": {},
          "execution_count": 4
        }
      ]
    },
    {
      "cell_type": "markdown",
      "source": [
        "How can we better visualize our data?\n",
        "\n",
        "This is where the data explorer's motto comes in\n",
        "\n",
        "\"Visualize, visualize, visualize!\""
      ],
      "metadata": {
        "id": "QzG_y7EGSI2T"
      }
    },
    {
      "cell_type": "code",
      "source": [
        "def plot_predictions(train_data=X_train,\n",
        "                     train_label=y_train,\n",
        "                     test_data=X_test,\n",
        "                     test_labels=y_test,\n",
        "                     predictions=None):\n",
        "  \"\"\"Plots training data, test data and compares predictions.\"\"\"\n",
        "  plt.figure(figsize=(10,7))\n",
        "\n",
        "  #plot training data in blue\n",
        "  plt.scatter(train_data, train_label, c=\"b\", s=4, label=\"Training data\")\n",
        "\n",
        "#plot test data in green\n",
        "  plt.scatter(test_data, test_labels, c=\"g\", s=4, label=\"Testing data\")\n",
        "\n",
        "  # Are there predictions?\n",
        "  if predictions is not None:\n",
        "    # Plot the predictions if they exist\n",
        "    plt.scatter(test_data, predictions, c=\"r\",s=4, label=\"Predictions\")\n",
        "\n",
        "#show legends\n",
        "  plt.legend(prop={\"size\":14 });"
      ],
      "metadata": {
        "id": "Vg-P19w-TDaY"
      },
      "execution_count": 5,
      "outputs": []
    },
    {
      "cell_type": "code",
      "source": [
        "plot_predictions();"
      ],
      "metadata": {
        "colab": {
          "base_uri": "https://localhost:8080/",
          "height": 599
        },
        "id": "gzeB2RtyTkDh",
        "outputId": "caec3986-f5a6-4ab9-d0a9-c4b6dbc57f1d"
      },
      "execution_count": 6,
      "outputs": [
        {
          "output_type": "display_data",
          "data": {
            "text/plain": [
              "<Figure size 1000x700 with 1 Axes>"
            ],
            "image/png": "[encoded data removed]"
          },
          "metadata": {}
        }
      ]
    },
    {
      "cell_type": "markdown",
      "source": [
        "## 2. Build model\n",
        "\n",
        "our first PyTorch model!!!!!!!!\n",
        "\n",
        "Python classes tutorial: https://realpython.com/python-classes/\n",
        "\n",
        "What our model does:\n",
        "1. start with random values (weights and bias)\n",
        "2. Looks at training data and adjust random values to better refelect (or get closer to) the ideal value (the weight and bias are what we used to create the data)\n",
        "\n",
        "How does it do so?\n",
        "by two main algorithsm:\n",
        "1. gradient decent\n",
        "2. backpropagation"
      ],
      "metadata": {
        "id": "KIHKOPG8VVZZ"
      }
    },
    {
      "cell_type": "code",
      "source": [
        "from torch import nn\n",
        "# Create Linear regression model class\n",
        "class LinearRegressionModel(nn.Module): # <- Almost everything in PyTorch inherhits from nn.Module, the lego building bricks of PyTorch Models\n",
        "  def __init__(self):\n",
        "    super().__init__()\n",
        "    self.weight = nn.Parameter(torch.randn(1, #starting with random parameter\n",
        "                                            requires_grad=True,\n",
        "                                            dtype=torch.float))\n",
        "    self.bias = nn.Parameter(torch.randn(1,\n",
        "                                         requires_grad=True,\n",
        "                                         dtype=torch.float))\n",
        "\n",
        "  # Forward method to define teh computation in the model\n",
        "  def forward(self, x: torch.Tensor) -> torch.Tensor: # <- \"x\" is the input data type of torch.Tensor\n",
        "    return self.weight * x + self.bias\n"
      ],
      "metadata": {
        "id": "p_fmkrFjWFhR"
      },
      "execution_count": 7,
      "outputs": []
    },
    {
      "cell_type": "markdown",
      "source": [
        "#what our model does\n",
        "* start with random values (weight and bais)\n",
        "* look at training data, and adjust random value to getter close to the ideal values (the weight and bais value we used to create the data)\n",
        "\n",
        "How?\n",
        "Through two main algorithms:\n",
        "1. Gradient desecnt\n",
        "2. Backpropagation"
      ],
      "metadata": {
        "id": "FrxhqPKetqzn"
      }
    },
    {
      "cell_type": "markdown",
      "source": [
        "### PyTorch model building essentials\n",
        "\n",
        "* torch.nn - contains all the building for computeritonal grpahs\n",
        "* paramter: what param should our model try and learn , often pytorch layer fromnn will set these for us\n",
        "*modules - the base call for all neaural network models. to override it use forward()\n",
        "* torch.optim - optimizer in pythorch, help with gradient decent\n",
        "* def forward() - all nn.Module subsclasses requires you to overwrite forward(), this method defines what foward computation"
      ],
      "metadata": {
        "id": "QI4qi0Ic7bVK"
      }
    },
    {
      "cell_type": "code",
      "source": [
        "# create a random seed\n",
        "#torch.manual_seed(42) #get the same random value each time\n",
        "\n",
        "#create a instance of the model\n",
        "model_0 = LinearRegressionModel()\n",
        "\n",
        "list(model_0.parameters())"
      ],
      "metadata": {
        "colab": {
          "base_uri": "https://localhost:8080/"
        },
        "id": "G3DfXsL4-jw8",
        "outputId": "b6fcd8ca-47eb-4afa-837e-f465c46051d1"
      },
      "execution_count": 8,
      "outputs": [
        {
          "output_type": "execute_result",
          "data": {
            "text/plain": [
              "[Parameter containing:\n",
              " tensor([-0.9440], requires_grad=True),\n",
              " Parameter containing:\n",
              " tensor([0.6790], requires_grad=True)]"
            ]
          },
          "metadata": {},
          "execution_count": 8
        }
      ]
    },
    {
      "cell_type": "code",
      "source": [
        "model_0.state_dict() #like a list, but it looks better"
      ],
      "metadata": {
        "colab": {
          "base_uri": "https://localhost:8080/"
        },
        "id": "xaGCpx-T_2Kz",
        "outputId": "e911e14a-6901-4246-ec6f-67b392df58c5"
      },
      "execution_count": 9,
      "outputs": [
        {
          "output_type": "execute_result",
          "data": {
            "text/plain": [
              "OrderedDict([('weight', tensor([-0.9440])), ('bias', tensor([0.6790]))])"
            ]
          },
          "metadata": {},
          "execution_count": 9
        }
      ]
    },
    {
      "cell_type": "markdown",
      "source": [
        "### making prdiction  using 'torch.inference_mode()'\n",
        "\n",
        "to check our model predictive power, check how well it predicts 'y_test' based on 'x_test'\n",
        "\n",
        "when we pass data through our model, it is going to run it throught the forward() method"
      ],
      "metadata": {
        "id": "rW-WVAQuAXdS"
      }
    },
    {
      "cell_type": "code",
      "source": [
        "#make prediction with model\n",
        "with torch.inference_mode():\n",
        "  y_preds = model_0(X_test)\n",
        "\n",
        "print(y_preds)\n",
        "\n",
        "print(y_test)"
      ],
      "metadata": {
        "colab": {
          "base_uri": "https://localhost:8080/"
        },
        "id": "iR6DdXOoAjxK",
        "outputId": "ac6f3eff-2683-4a8b-ac7e-27b9454e58b2"
      },
      "execution_count": 10,
      "outputs": [
        {
          "output_type": "stream",
          "name": "stdout",
          "text": [
            "tensor([[-0.0762],\n",
            "        [-0.0856],\n",
            "        [-0.0951],\n",
            "        [-0.1045],\n",
            "        [-0.1140],\n",
            "        [-0.1234],\n",
            "        [-0.1328],\n",
            "        [-0.1423],\n",
            "        [-0.1517],\n",
            "        [-0.1612],\n",
            "        [-0.1706],\n",
            "        [-0.1800],\n",
            "        [-0.1895],\n",
            "        [-0.1989],\n",
            "        [-0.2084],\n",
            "        [-0.2178],\n",
            "        [-0.2272],\n",
            "        [-0.2367],\n",
            "        [-0.2461],\n",
            "        [-0.2556]])\n",
            "tensor([[0.8600],\n",
            "        [0.8670],\n",
            "        [0.8740],\n",
            "        [0.8810],\n",
            "        [0.8880],\n",
            "        [0.8950],\n",
            "        [0.9020],\n",
            "        [0.9090],\n",
            "        [0.9160],\n",
            "        [0.9230],\n",
            "        [0.9300],\n",
            "        [0.9370],\n",
            "        [0.9440],\n",
            "        [0.9510],\n",
            "        [0.9580],\n",
            "        [0.9650],\n",
            "        [0.9720],\n",
            "        [0.9790],\n",
            "        [0.9860],\n",
            "        [0.9930]])\n"
          ]
        }
      ]
    },
    {
      "cell_type": "code",
      "source": [
        "plot_predictions(predictions=y_preds)"
      ],
      "metadata": {
        "colab": {
          "base_uri": "https://localhost:8080/",
          "height": 599
        },
        "id": "ctXZUxgABotr",
        "outputId": "9f2b5397-06e1-4b7d-9348-00a9b2cd74b8"
      },
      "execution_count": 11,
      "outputs": [
        {
          "output_type": "display_data",
          "data": {
            "text/plain": [
              "<Figure size 1000x700 with 1 Axes>"
            ],
            "image/png": "[encoded data removed]"
          },
          "metadata": {}
        }
      ]
    },
    {
      "cell_type": "markdown",
      "source": [
        "### training the model\n",
        "\n",
        "the whole idea is traing the model to move from some unknown parameter to some known paramter\n",
        "or get it to better representation\n",
        "\n",
        "One way to measure how poor or how wrong your models predictions are is to use a lost function\n",
        "\n"
      ],
      "metadata": {
        "id": "STSP1SMrCZBr"
      }
    },
    {
      "cell_type": "code",
      "source": [
        "model_0.state_dict()"
      ],
      "metadata": {
        "colab": {
          "base_uri": "https://localhost:8080/"
        },
        "id": "Y03zgI65EsWz",
        "outputId": "b8bc53a6-0d6c-4d45-b34b-94a35876bb3b"
      },
      "execution_count": 12,
      "outputs": [
        {
          "output_type": "execute_result",
          "data": {
            "text/plain": [
              "OrderedDict([('weight', tensor([-0.9440])), ('bias', tensor([0.6790]))])"
            ]
          },
          "metadata": {},
          "execution_count": 12
        }
      ]
    },
    {
      "cell_type": "code",
      "source": [
        "#set up the lost function, checks how wrong the model is\n",
        "loss_fn = nn.L1Loss()\n",
        "\n",
        "#setup an optionzer Stochastic gradient descent\n",
        "optimizer = torch.optim.SGD(params=model_0.parameters(), #parameter is a value the model sets itself\n",
        "                            lr = 0.01) #lr = learning rate = possible the most important hyperprama you can set"
      ],
      "metadata": {
        "id": "H4zaaLQSEwGT"
      },
      "execution_count": 13,
      "outputs": []
    },
    {
      "cell_type": "markdown",
      "source": [
        "###bulding a training loop (and a testing loop) in pytorch\n",
        "\n",
        "a couple of tings we will need in a training loop:\n",
        "0. loop through the data\n",
        "1. forward pass (this invloves data moving through our model 'forward' override function) - to make data prdictions - also called forward propagation\n",
        "2. calculate the loss\n",
        "3. Optimizer zero grad\n",
        "4. loss backward - move backward through the network to calculate the gradient of each of the parameters of our model with respect to the loss\n",
        "5. optimizer step - use the optimizer to adjust our model's parameter to try and imporve the loss (**gradient desecnt yall**)\n"
      ],
      "metadata": {
        "id": "RjYJgyx7FuEz"
      }
    },
    {
      "cell_type": "code",
      "source": [
        "#an epoch is one loop throgh the data (hyperparameter because we set it our selfs)\n",
        "epochs = 100\n",
        "\n",
        "#track different values\n",
        "epoch_count = []\n",
        "loss_values = []\n",
        "test_loss_values = []\n",
        "\n",
        "\n",
        "# 0. Loop through the data\n",
        "for epoch in range(epochs):\n",
        "  # set the model to training mode\n",
        "  model_0.train() # train mode in PyTorch set all param that require gradients to require gradiants\n",
        "\n",
        "  #1. forward pass function\n",
        "  y_pred = model_0(X_train)\n",
        "\n",
        "  #2. calcualte the loss\n",
        "  loss = loss_fn(y_pred, y_train)\n",
        "\n",
        "  # 3. optimizer zero grad\n",
        "  optimizer.zero_grad()\n",
        "\n",
        "  # 4. perform backpropagation on the loss with respect to the parameters of the model\n",
        "  loss.backward()\n",
        "\n",
        "  # 5. step the optimizer (perform gradent descent)\n",
        "  optimizer.step()\n",
        "\n",
        "  #testing\n",
        "  model_0.eval() #turn off gradient tracking\n",
        "  with torch.inference_mode(): #tursn off gradient tracking\n",
        "    # do forward pass\n",
        "    test_pred = model_0(X_test)\n",
        "\n",
        "    # calculate loss\n",
        "    test_loss = loss_fn(test_pred, y_test)\n",
        "\n",
        "    if epoch % 10 == 0:\n",
        "      epoch_count.append(epoch)\n",
        "      loss_values.append(loss)\n",
        "      test_loss_values.append(test_loss)\n",
        "      print(f\"Epoch: {epoch} | Loss: {loss} | Test loss: {test_loss}\")\n",
        "      #print out model state_dict()\n",
        "      print(model_0.state_dict())\n",
        "\n",
        "\n",
        "print(f\"loss: {loss}\")\n",
        "plot_predictions(predictions=y_preds)"
      ],
      "metadata": {
        "colab": {
          "base_uri": "https://localhost:8080/",
          "height": 987
        },
        "id": "bmzJntAtH82h",
        "outputId": "8127fe8a-640c-4d36-9f61-3d73a0b0f79a"
      },
      "execution_count": 19,
      "outputs": [
        {
          "output_type": "stream",
          "name": "stdout",
          "text": [
            "Epoch: 0 | Loss: 0.003815149888396263 | Test loss: 0.011559048667550087\n",
            "OrderedDict([('weight', tensor([0.6924])), ('bias', tensor([0.2953]))])\n",
            "Epoch: 10 | Loss: 0.003815149888396263 | Test loss: 0.011559048667550087\n",
            "OrderedDict([('weight', tensor([0.6924])), ('bias', tensor([0.2953]))])\n",
            "Epoch: 20 | Loss: 0.003815149888396263 | Test loss: 0.011559048667550087\n",
            "OrderedDict([('weight', tensor([0.6924])), ('bias', tensor([0.2953]))])\n",
            "Epoch: 30 | Loss: 0.003815149888396263 | Test loss: 0.011559048667550087\n",
            "OrderedDict([('weight', tensor([0.6924])), ('bias', tensor([0.2953]))])\n",
            "Epoch: 40 | Loss: 0.003815149888396263 | Test loss: 0.011559048667550087\n",
            "OrderedDict([('weight', tensor([0.6924])), ('bias', tensor([0.2953]))])\n",
            "Epoch: 50 | Loss: 0.003815149888396263 | Test loss: 0.011559048667550087\n",
            "OrderedDict([('weight', tensor([0.6924])), ('bias', tensor([0.2953]))])\n",
            "Epoch: 60 | Loss: 0.003815149888396263 | Test loss: 0.011559048667550087\n",
            "OrderedDict([('weight', tensor([0.6924])), ('bias', tensor([0.2953]))])\n",
            "Epoch: 70 | Loss: 0.003815149888396263 | Test loss: 0.011559048667550087\n",
            "OrderedDict([('weight', tensor([0.6924])), ('bias', tensor([0.2953]))])\n",
            "Epoch: 80 | Loss: 0.003815149888396263 | Test loss: 0.011559048667550087\n",
            "OrderedDict([('weight', tensor([0.6924])), ('bias', tensor([0.2953]))])\n",
            "Epoch: 90 | Loss: 0.003815149888396263 | Test loss: 0.011559048667550087\n",
            "OrderedDict([('weight', tensor([0.6924])), ('bias', tensor([0.2953]))])\n",
            "loss: 0.007745095528662205\n"
          ]
        },
        {
          "output_type": "display_data",
          "data": {
            "text/plain": [
              "<Figure size 1000x700 with 1 Axes>"
            ],
            "image/png": "[encoded data removed]"
          },
          "metadata": {}
        }
      ]
    },
    {
      "cell_type": "markdown",
      "source": [
        "#save the model"
      ],
      "metadata": {
        "id": "dZ4I-fOUObR8"
      }
    },
    {
      "cell_type": "code",
      "source": [
        "#save our model\n",
        "from pathlib import Path\n",
        "\n",
        "#create the model directory\n",
        "MODEL_PATH = Path(\"models\")\n",
        "MODEL_PATH.mkdir(parents=True, exist_ok=True)\n",
        "\n",
        "#create model save path\n",
        "MODEL_NAME = \"My_First_Model.pth\"\n",
        "MODEL_SAVE_PATH = MODEL_PATH / MODEL_NAME\n",
        "\n",
        "#save the model state dict\n",
        "torch.save(obj=model_0.state_dict(), f=MODEL_SAVE_PATH)"
      ],
      "metadata": {
        "id": "vyzUZws-Yt9u"
      },
      "execution_count": 20,
      "outputs": []
    },
    {
      "cell_type": "markdown",
      "source": [
        "#Loading pytorch model"
      ],
      "metadata": {
        "id": "3QtKrX4yZHoG"
      }
    },
    {
      "cell_type": "code",
      "source": [
        "model_0.state_dict()\n",
        "\n",
        "#to load in a state_dict, we have to instantiate a new instance of our model class\n",
        "loaded_model_0 = LinearRegressionModel()\n",
        "\n",
        "loaded_model_0.load_state_dict(torch.load(f=MODEL_SAVE_PATH))"
      ],
      "metadata": {
        "colab": {
          "base_uri": "https://localhost:8080/"
        },
        "id": "JDvwMMBXZOp1",
        "outputId": "6ac58764-98e5-409a-cc30-1e1e908cc2e0"
      },
      "execution_count": 21,
      "outputs": [
        {
          "output_type": "execute_result",
          "data": {
            "text/plain": [
              "<All keys matched successfully>"
            ]
          },
          "metadata": {},
          "execution_count": 21
        }
      ]
    },
    {
      "cell_type": "code",
      "source": [
        "loaded_model_0.eval()\n",
        "with torch.inference_mode():\n",
        "  loaded_model_preds = loaded_model_0(X_test)\n",
        "\n",
        "model_0.eval()\n",
        "with torch.inference_mode():\n",
        "  y_preds = model_0(X_test)\n",
        "\n",
        "print(loaded_model_preds)\n",
        "\n",
        "print(y_preds)"
      ],
      "metadata": {
        "colab": {
          "base_uri": "https://localhost:8080/"
        },
        "id": "77DAoMZ6ZUeF",
        "outputId": "da282d7d-880a-4bf4-f180-52d7d2f44e9d"
      },
      "execution_count": 22,
      "outputs": [
        {
          "output_type": "stream",
          "name": "stdout",
          "text": [
            "tensor([[0.8623],\n",
            "        [0.8693],\n",
            "        [0.8763],\n",
            "        [0.8832],\n",
            "        [0.8902],\n",
            "        [0.8971],\n",
            "        [0.9041],\n",
            "        [0.9111],\n",
            "        [0.9180],\n",
            "        [0.9250],\n",
            "        [0.9320],\n",
            "        [0.9389],\n",
            "        [0.9459],\n",
            "        [0.9528],\n",
            "        [0.9598],\n",
            "        [0.9668],\n",
            "        [0.9737],\n",
            "        [0.9807],\n",
            "        [0.9877],\n",
            "        [0.9946]])\n",
            "tensor([[0.8623],\n",
            "        [0.8693],\n",
            "        [0.8763],\n",
            "        [0.8832],\n",
            "        [0.8902],\n",
            "        [0.8971],\n",
            "        [0.9041],\n",
            "        [0.9111],\n",
            "        [0.9180],\n",
            "        [0.9250],\n",
            "        [0.9320],\n",
            "        [0.9389],\n",
            "        [0.9459],\n",
            "        [0.9528],\n",
            "        [0.9598],\n",
            "        [0.9668],\n",
            "        [0.9737],\n",
            "        [0.9807],\n",
            "        [0.9877],\n",
            "        [0.9946]])\n"
          ]
        }
      ]
    },
    {
      "cell_type": "code",
      "source": [],
      "metadata": {
        "id": "S8sh1ytia4s2"
      },
      "execution_count": 18,
      "outputs": []
    }
  ]
}