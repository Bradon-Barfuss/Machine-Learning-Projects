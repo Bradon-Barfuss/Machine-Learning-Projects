{
  "nbformat": 4,
  "nbformat_minor": 0,
  "metadata": {
    "colab": {
      "provenance": []
    },
    "kernelspec": {
      "name": "python3",
      "display_name": "Python 3"
    },
    "language_info": {
      "name": "python"
    }
  },
  "cells": [
    {
      "cell_type": "markdown",
      "source": [
        "# CS-6600 Homework 1 - NumPy Basics in Jupyter Notebooks\n",
        "\n",
        "*Weber State University*\n",
        "\n",
        "**Your Name**:\n"
      ],
      "metadata": {
        "id": "RBbtgebFk98q"
      }
    },
    {
      "cell_type": "markdown",
      "source": [
        "The goal of this assignment is to help you get familiar with the basics of working with a Jupyter notebook, and with using the [NumPy](https://numpy.org/doc/stable/index.html) library."
      ],
      "metadata": {
        "id": "Wi8VA-GblPaq"
      }
    },
    {
      "cell_type": "markdown",
      "source": [
        "### Hello World!"
      ],
      "metadata": {
        "id": "buAfQq7ntNoj"
      }
    },
    {
      "cell_type": "markdown",
      "source": [
        "First, let's let's make sure your Jupyter notebook is running. Run the code below:"
      ],
      "metadata": {
        "id": "C6n8OhLrloEN"
      }
    },
    {
      "cell_type": "code",
      "source": [
        "print(\"Hello World!\")"
      ],
      "metadata": {
        "id": "j2eJyg2Ll5rU",
        "colab": {
          "base_uri": "https://localhost:8080/"
        },
        "outputId": "8df39800-5988-4853-ba45-7ec8509d8e0c"
      },
      "execution_count": null,
      "outputs": [
        {
          "output_type": "stream",
          "name": "stdout",
          "text": [
            "Hello World!\n"
          ]
        }
      ]
    },
    {
      "cell_type": "markdown",
      "source": [
        "Did it print \"Hello World!\"? Good.\n",
        "\n",
        "You, as a representative of the world, should introduce yourself to your Jupyter notebook. Crate a code cell below that does so - have it print \"Hello! My name is YOUR_NAME.\" Here YOUR_NAME should be filled in with, well, your name.\n",
        "\n",
        "Please don't delete the *START CODE HERE* and *END CODE HERE* comments, and please keep all your code between them."
      ],
      "metadata": {
        "id": "UJfJIyBYl_GO"
      }
    },
    {
      "cell_type": "code",
      "source": [
        "### START CODE HERE ###\n",
        "print(\"Hello! My name is Bradon Barfuss\")\n",
        "### END CODE HERE ###"
      ],
      "metadata": {
        "id": "qtVDtIbumaJ9",
        "colab": {
          "base_uri": "https://localhost:8080/"
        },
        "outputId": "a48a7d79-b1c4-4b8b-b323-131be1252db9"
      },
      "execution_count": null,
      "outputs": [
        {
          "output_type": "stream",
          "name": "stdout",
          "text": [
            "Hello! My name is Bradon Barfuss\n"
          ]
        }
      ]
    },
    {
      "cell_type": "markdown",
      "source": [
        "Glad you're now introduced."
      ],
      "metadata": {
        "id": "FAXCa70QtWCP"
      }
    },
    {
      "cell_type": "markdown",
      "source": [
        "### The Sigmoid Function"
      ],
      "metadata": {
        "id": "He8jMyrgtVXz"
      }
    },
    {
      "cell_type": "markdown",
      "source": [
        "Next, let's create a function in Python that implements the \"sigmoid\" function in math, a function that we'll see again later in this course.\n",
        "\n",
        "<center>\n",
        "  $\\displaystyle sigmoid(x) = \\frac{1}{1+e^{-x}}$\n",
        "</center>\n",
        "\n",
        "We'll import the *math* library to do so, and use the built-in *math.exp* function."
      ],
      "metadata": {
        "id": "HzLItUFDmoiy"
      }
    },
    {
      "cell_type": "code",
      "source": [
        "import math\n",
        "\n",
        "# Define the sigmoid function\n",
        "def sigmoid(x):\n",
        "    return 1 / (1 + math.exp(-x))"
      ],
      "metadata": {
        "id": "TjuLDvmxn2NV"
      },
      "execution_count": 3,
      "outputs": []
    },
    {
      "cell_type": "markdown",
      "source": [
        "We can graph this function using the pyplot library from mathplotlib. Don't worry about understanding how to use this yet."
      ],
      "metadata": {
        "id": "mjK0Vypun_ZE"
      }
    },
    {
      "cell_type": "code",
      "source": [
        "import matplotlib.pyplot as plt\n",
        "\n",
        "# Generate a list of x values from -10 to 10 (reasonable range)\n",
        "x_values = []\n",
        "value = -10.0\n",
        "while value <= 10.0:\n",
        "  x_values.append(value)\n",
        "  value += 0.1\n",
        "\n",
        "# Apply the sigmoid function to the x values\n",
        "y_values = [sigmoid(x) for x in x_values]\n",
        "\n",
        "# Plot the sigmoid function\n",
        "plt.figure(figsize=(8, 6))\n",
        "plt.plot(x_values, y_values, label='Sigmoid Function')\n",
        "plt.title('Sigmoid Function')\n",
        "plt.xlabel('x')\n",
        "plt.ylabel('sigmoid(x)')\n",
        "plt.grid(True)\n",
        "plt.legend()\n",
        "plt.show()"
      ],
      "metadata": {
        "id": "3Acv-TDbo2Tg",
        "colab": {
          "base_uri": "https://localhost:8080/",
          "height": 564
        },
        "outputId": "d7c45652-722d-49ec-b112-49996181c56e"
      },
      "execution_count": 4,
      "outputs": [
        {
          "output_type": "display_data",
          "data": {
            "text/plain": [
              "<Figure size 800x600 with 1 Axes>"
            ],
            "image/png": "[encoded data removed]"
          },
          "metadata": {}
        }
      ]
    },
    {
      "cell_type": "markdown",
      "source": [
        "This isn't the best way to do it, for many reasons. One is that we'll run into trouble if we try to apply our sigmoid function to a list of values."
      ],
      "metadata": {
        "id": "uFLvcdZ4pDMT"
      }
    },
    {
      "cell_type": "code",
      "source": [
        "x = [-1,0,1]\n",
        "sigmoid(x)"
      ],
      "metadata": {
        "id": "eYtvTJEqpZqg",
        "colab": {
          "base_uri": "https://localhost:8080/",
          "height": 245
        },
        "outputId": "0044bdf1-5a1a-47f1-f19d-b07b16e22ef9"
      },
      "execution_count": null,
      "outputs": [
        {
          "output_type": "error",
          "ename": "TypeError",
          "evalue": "bad operand type for unary -: 'list'",
          "traceback": [
            "\u001b[0;31m---------------------------------------------------------------------------\u001b[0m",
            "\u001b[0;31mTypeError\u001b[0m                                 Traceback (most recent call last)",
            "\u001b[0;32m<ipython-input-5-468d154da46a>\u001b[0m in \u001b[0;36m<cell line: 2>\u001b[0;34m()\u001b[0m\n\u001b[1;32m      1\u001b[0m \u001b[0mx\u001b[0m \u001b[0;34m=\u001b[0m \u001b[0;34m[\u001b[0m\u001b[0;34m-\u001b[0m\u001b[0;36m1\u001b[0m\u001b[0;34m,\u001b[0m\u001b[0;36m0\u001b[0m\u001b[0;34m,\u001b[0m\u001b[0;36m1\u001b[0m\u001b[0;34m]\u001b[0m\u001b[0;34m\u001b[0m\u001b[0;34m\u001b[0m\u001b[0m\n\u001b[0;32m----> 2\u001b[0;31m \u001b[0msigmoid\u001b[0m\u001b[0;34m(\u001b[0m\u001b[0mx\u001b[0m\u001b[0;34m)\u001b[0m\u001b[0;34m\u001b[0m\u001b[0;34m\u001b[0m\u001b[0m\n\u001b[0m",
            "\u001b[0;32m<ipython-input-3-00ce5a3f832e>\u001b[0m in \u001b[0;36msigmoid\u001b[0;34m(x)\u001b[0m\n\u001b[1;32m      3\u001b[0m \u001b[0;31m# Define the sigmoid function\u001b[0m\u001b[0;34m\u001b[0m\u001b[0;34m\u001b[0m\u001b[0m\n\u001b[1;32m      4\u001b[0m \u001b[0;32mdef\u001b[0m \u001b[0msigmoid\u001b[0m\u001b[0;34m(\u001b[0m\u001b[0mx\u001b[0m\u001b[0;34m)\u001b[0m\u001b[0;34m:\u001b[0m\u001b[0;34m\u001b[0m\u001b[0;34m\u001b[0m\u001b[0m\n\u001b[0;32m----> 5\u001b[0;31m     \u001b[0;32mreturn\u001b[0m \u001b[0;36m1\u001b[0m \u001b[0;34m/\u001b[0m \u001b[0;34m(\u001b[0m\u001b[0;36m1\u001b[0m \u001b[0;34m+\u001b[0m \u001b[0mmath\u001b[0m\u001b[0;34m.\u001b[0m\u001b[0mexp\u001b[0m\u001b[0;34m(\u001b[0m\u001b[0;34m-\u001b[0m\u001b[0mx\u001b[0m\u001b[0;34m)\u001b[0m\u001b[0;34m)\u001b[0m\u001b[0;34m\u001b[0m\u001b[0;34m\u001b[0m\u001b[0m\n\u001b[0m",
            "\u001b[0;31mTypeError\u001b[0m: bad operand type for unary -: 'list'"
          ]
        }
      ]
    },
    {
      "cell_type": "markdown",
      "source": [
        "Womp womp."
      ],
      "metadata": {
        "id": "kgxepzzJpgOj"
      }
    },
    {
      "cell_type": "markdown",
      "source": [
        "Let's rewrite this using numpy. First, we'll import the numpy library, and then we'll redefine the sigmoid function using the *np.exp* function, which is the same mathematical operations as *math.exp*, but is build for numpy arrays."
      ],
      "metadata": {
        "id": "NpXKie-Jpihb"
      }
    },
    {
      "cell_type": "code",
      "source": [
        "import numpy as np\n",
        "\n",
        "### Define the sigmoid function using np.exp()\n",
        "def sigmoid(x):\n",
        "    return 1 / (1 + np.exp(-x))\n",
        "    ###YOUR CODE HERE"
      ],
      "metadata": {
        "id": "9Jzsu3vorxa-"
      },
      "execution_count": 5,
      "outputs": []
    },
    {
      "cell_type": "markdown",
      "source": [
        "We can create the chart above using this new sigmoid function more efficiently:"
      ],
      "metadata": {
        "id": "RAljlZUhr89M"
      }
    },
    {
      "cell_type": "code",
      "source": [
        "# Generate an array of x values from -10 to 10 (reasonable range)\n",
        "x_values = np.linspace(-10, 10, 100)\n",
        "\n",
        "# Apply the sigmoid function to the x values\n",
        "y_values = sigmoid(x_values)\n",
        "\n",
        "# Plot the sigmoid function\n",
        "plt.figure(figsize=(8, 6))\n",
        "plt.plot(x_values, y_values, label='Sigmoid Function')\n",
        "plt.title('Sigmoid Function')\n",
        "plt.xlabel('x')\n",
        "plt.ylabel('sigmoid(x)')\n",
        "plt.grid(True)\n",
        "plt.legend()\n",
        "plt.show()"
      ],
      "metadata": {
        "id": "xKYQkLoJsDZN",
        "colab": {
          "base_uri": "https://localhost:8080/",
          "height": 564
        },
        "outputId": "a02f8652-d045-40f9-99bc-6777a1272721"
      },
      "execution_count": null,
      "outputs": [
        {
          "output_type": "display_data",
          "data": {
            "text/plain": [
              "<Figure size 800x600 with 1 Axes>"
            ],
            "image/png": "[encoded data removed]"
          },
          "metadata": {}
        }
      ]
    },
    {
      "cell_type": "markdown",
      "source": [
        "You see how the new *sigmoid* function applied to the entire array of values? It's less code, and it's **much** faster."
      ],
      "metadata": {
        "id": "LtruUl-dsSYC"
      }
    },
    {
      "cell_type": "markdown",
      "source": [
        "### Reshaping Arrays"
      ],
      "metadata": {
        "id": "dDOLxK4usdUb"
      }
    },
    {
      "cell_type": "markdown",
      "source": [
        "Numpy arrays are multidimensional. As such, you'll frequently want to know what their shape is, or even change (reshape) them. The methods *shape* and *reshape* facilitate this."
      ],
      "metadata": {
        "id": "s18UF8nltxqO"
      }
    },
    {
      "cell_type": "markdown",
      "source": [
        "For example, suppose I have the array:"
      ],
      "metadata": {
        "id": "tdcwnp5Duh1n"
      }
    },
    {
      "cell_type": "code",
      "source": [
        "X = np.array([[1,2,3],[4,5,6]])"
      ],
      "metadata": {
        "id": "Cg9LbuGmukBF"
      },
      "execution_count": null,
      "outputs": []
    },
    {
      "cell_type": "markdown",
      "source": [
        "The shape of this array is:"
      ],
      "metadata": {
        "id": "y0EcJ3neum7_"
      }
    },
    {
      "cell_type": "code",
      "source": [
        "X.shape"
      ],
      "metadata": {
        "id": "0aPT3aeDuoXS",
        "colab": {
          "base_uri": "https://localhost:8080/"
        },
        "outputId": "3b803986-ebda-42b6-8793-aac665ca800b"
      },
      "execution_count": null,
      "outputs": [
        {
          "output_type": "execute_result",
          "data": {
            "text/plain": [
              "(2, 3)"
            ]
          },
          "metadata": {},
          "execution_count": 12
        }
      ]
    },
    {
      "cell_type": "markdown",
      "source": [
        "I can reshape this into a 1-dimensional array with:"
      ],
      "metadata": {
        "id": "_jeCBzjbuuPM"
      }
    },
    {
      "cell_type": "code",
      "source": [
        "X.reshape(6)"
      ],
      "metadata": {
        "id": "l_Mewgbbu9e0",
        "colab": {
          "base_uri": "https://localhost:8080/"
        },
        "outputId": "c86a0ce1-c6c6-4788-c50d-0f023ac639e1"
      },
      "execution_count": null,
      "outputs": [
        {
          "output_type": "execute_result",
          "data": {
            "text/plain": [
              "array([1, 2, 3, 4, 5, 6])"
            ]
          },
          "metadata": {},
          "execution_count": 13
        }
      ]
    },
    {
      "cell_type": "markdown",
      "source": [
        "Note that reshaping the array produces a new array as its output, but it doesn't alter the original."
      ],
      "metadata": {
        "id": "jNRgfdgNvM_3"
      }
    },
    {
      "cell_type": "code",
      "source": [
        "X"
      ],
      "metadata": {
        "id": "QEa7QLYavJ-l",
        "colab": {
          "base_uri": "https://localhost:8080/"
        },
        "outputId": "d060c98c-379d-4ffe-8c91-cfb6216d9a18"
      },
      "execution_count": null,
      "outputs": [
        {
          "output_type": "execute_result",
          "data": {
            "text/plain": [
              "array([[1, 2, 3],\n",
              "       [4, 5, 6]])"
            ]
          },
          "metadata": {},
          "execution_count": 14
        }
      ]
    },
    {
      "cell_type": "markdown",
      "source": [
        "Frequently with images, you're given a 3-dimensional array. The first two dimensional are the image width and height, while the third is its three RGB color values. For example, an image may be represented as:"
      ],
      "metadata": {
        "id": "7hmuSTSzvU9T"
      }
    },
    {
      "cell_type": "code",
      "source": [
        "np.random.seed(42) #Set the seed value for the random number generator, so that the \"random\" numbers it returns are consistent.\n",
        "\n",
        "image_array = np.random.randint(0,255,(5,5,3))\n",
        "image_array"
      ],
      "metadata": {
        "id": "bGrH1mZbvh1M",
        "colab": {
          "base_uri": "https://localhost:8080/"
        },
        "outputId": "1e96bead-26a2-4714-fa8d-dff6e7abc9ce"
      },
      "execution_count": null,
      "outputs": [
        {
          "output_type": "execute_result",
          "data": {
            "text/plain": [
              "array([[[102, 179,  92],\n",
              "        [ 14, 106,  71],\n",
              "        [188,  20, 102],\n",
              "        [121, 210, 214],\n",
              "        [ 74, 202,  87]],\n",
              "\n",
              "       [[116,  99, 103],\n",
              "        [151, 130, 149],\n",
              "        [ 52,   1,  87],\n",
              "        [235, 157,  37],\n",
              "        [129, 191, 187]],\n",
              "\n",
              "       [[ 20, 160, 203],\n",
              "        [ 57,  21, 252],\n",
              "        [235,  88,  48],\n",
              "        [218,  58, 254],\n",
              "        [169, 219, 187]],\n",
              "\n",
              "       [[207,  14, 189],\n",
              "        [189, 174, 189],\n",
              "        [ 50, 107,  54],\n",
              "        [243,  63, 248],\n",
              "        [130, 228,  50]],\n",
              "\n",
              "       [[134,  20,  72],\n",
              "        [166,  17, 131],\n",
              "        [ 88,  59,  13],\n",
              "        [241, 249,   8],\n",
              "        [ 89,  52, 129]]])"
            ]
          },
          "metadata": {},
          "execution_count": 15
        }
      ]
    },
    {
      "cell_type": "markdown",
      "source": [
        "This is a $5 \\times 5 \\times 3$ array. Suppose we want to flatten it and turn it into a one-dimensional array, write a program that does this. Specifically, write a program that takes a $n \\times m \\times r$ numpy array, and returns its elements as a 1-dimensional array."
      ],
      "metadata": {
        "id": "iAk8y-DHw1Se"
      }
    },
    {
      "cell_type": "code",
      "source": [
        "def image2vector(image):\n",
        "  ###START CODE HERE###\n",
        "\n",
        "  image_array = image.reshape(75)\n",
        "  return(image_array)\n",
        "  ###STOP CODE HERE###"
      ],
      "metadata": {
        "id": "VJUyyIfzxLcR"
      },
      "execution_count": null,
      "outputs": []
    },
    {
      "cell_type": "code",
      "source": [
        "image_array.shape\n",
        "image2vector(image_array)"
      ],
      "metadata": {
        "id": "GnwrFi4W3R1M",
        "colab": {
          "base_uri": "https://localhost:8080/"
        },
        "outputId": "74863425-2a87-4d68-c08e-73613774f955"
      },
      "execution_count": null,
      "outputs": [
        {
          "output_type": "execute_result",
          "data": {
            "text/plain": [
              "array([102, 179,  92,  14, 106,  71, 188,  20, 102, 121, 210, 214,  74,\n",
              "       202,  87, 116,  99, 103, 151, 130, 149,  52,   1,  87, 235, 157,\n",
              "        37, 129, 191, 187,  20, 160, 203,  57,  21, 252, 235,  88,  48,\n",
              "       218,  58, 254, 169, 219, 187, 207,  14, 189, 189, 174, 189,  50,\n",
              "       107,  54, 243,  63, 248, 130, 228,  50, 134,  20,  72, 166,  17,\n",
              "       131,  88,  59,  13, 241, 249,   8,  89,  52, 129])"
            ]
          },
          "metadata": {},
          "execution_count": 24
        }
      ]
    },
    {
      "cell_type": "markdown",
      "source": [
        "### Broadcasting and the Softmax"
      ],
      "metadata": {
        "id": "P1183LCtxw-6"
      }
    },
    {
      "cell_type": "markdown",
      "source": [
        "The softmax function is a mathematical function that converts a vector of raw scores (also called logits or unnormalized log probabilities) into a vector of probabilities. The output probabilities are proportional to the exponentials of the input numbers, and they sum to 1. The softmax function is widely used in machine learning, particularly in the context of classification tasks.\n",
        "\n",
        "The mathematical definition of the softmax is:\n",
        "For a vector $\\textbf{x} = [x_{1},x_{2},\\ldots,x_{n}]$, the softmax is:\n",
        "\n",
        "<center>  \n",
        "  $\\displaystyle \\left[\\frac{e^{x_{1}}}{\\sum_{j = 1}^{n}e^{x_{j}}},\\frac{e^{x_{2}}}{\\sum_{j = 1}^{n}e^{x_{j}}},\\ldots,\\frac{e^{x_{n}}}{\\sum_{j = 1}^{n}e^{x_{j}}}\\right]$\n",
        "</center>\n"
      ],
      "metadata": {
        "id": "wB2rhvARx9y_"
      }
    },
    {
      "cell_type": "markdown",
      "source": [
        "Create a softmax function using numpy broadcasting (applying the same operation to every element of an array):"
      ],
      "metadata": {
        "id": "NqufMBZ1z2Cn"
      }
    },
    {
      "cell_type": "code",
      "source": [
        "def softmax(x):\n",
        "    \"\"\"Calculates the softmax for each row of the input x.\n",
        "\n",
        "    Your code should work for a row vector and also for matrices of shape (n, m).\n",
        "\n",
        "    Argument:\n",
        "    x -- A numpy matrix of shape (n,m)\n",
        "\n",
        "    Returns:\n",
        "    s -- A numpy matrix equal to the softmax of x, of shape (n,m)\n",
        "    \"\"\"\n",
        "\n",
        "    # Apply exp() element-wise to x. Use np.exp(...).\n",
        "    print(\"base numbers: \", x)\n",
        "    x_exp = np.exp(x)\n",
        "\n",
        "    print(\"e ^ numbers: \", x_exp)\n",
        "\n",
        "    # Create a vector x_sum that sums each row of x_exp. Use np.sum(..., axis = 1, keepdims = True).\n",
        "    x_sum = np.sum(x_exp, axis = 1, keepdims=True)### YOUR CODE HERE\n",
        "    print(\"Sum: \", x_sum)\n",
        "    # Compute softmax(x) by dividing x_exp by x_sum. It should automatically use numpy broadcasting.\n",
        "    s = x_exp/x_sum ### YOUR CODE HERE\n",
        "\n",
        "\n",
        "    return s"
      ],
      "metadata": {
        "id": "TkOoSJ8V0NwA"
      },
      "execution_count": 21,
      "outputs": []
    },
    {
      "cell_type": "code",
      "source": [
        "x = np.array([\n",
        "    [9, 2, 5, 0, 0],\n",
        "    [7, 5, 0, 0 ,0]])\n",
        "\n",
        "print(\"softmax(x) = \" + str(softmax(x)))\n"
      ],
      "metadata": {
        "id": "7Ra9h0GN0t8Y",
        "colab": {
          "base_uri": "https://localhost:8080/"
        },
        "outputId": "8e91992b-cfe4-48fa-c1ad-baf1429bea62"
      },
      "execution_count": 23,
      "outputs": [
        {
          "output_type": "stream",
          "name": "stdout",
          "text": [
            "base numbers:  [[9 2 5 0 0]\n",
            " [7 5 0 0 0]]\n",
            "e squared numbers:  [[8.10308393e+03 7.38905610e+00 1.48413159e+02 1.00000000e+00\n",
            "  1.00000000e+00]\n",
            " [1.09663316e+03 1.48413159e+02 1.00000000e+00 1.00000000e+00\n",
            "  1.00000000e+00]]\n",
            "Sum:  [[8260.88614278]\n",
            " [1248.04631753]]\n",
            "softmax(x) = [[9.80897665e-01 8.94462891e-04 1.79657674e-02 1.21052389e-04\n",
            "  1.21052389e-04]\n",
            " [8.78679856e-01 1.18916387e-01 8.01252314e-04 8.01252314e-04\n",
            "  8.01252314e-04]]\n"
          ]
        }
      ]
    },
    {
      "cell_type": "markdown",
      "source": [
        "### That's It For Today!"
      ],
      "metadata": {
        "id": "S_UVPMMu0-VW"
      }
    },
    {
      "cell_type": "markdown",
      "source": [
        "When this is done, please upload your completed notebook to Canvas for grading. Thank you!"
      ],
      "metadata": {
        "id": "wmbDQ_T60zS9"
      }
    }
  ]
}